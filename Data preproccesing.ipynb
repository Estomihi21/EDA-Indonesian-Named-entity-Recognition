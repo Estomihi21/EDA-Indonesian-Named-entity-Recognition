{
 "cells": [
  {
   "cell_type": "markdown",
   "id": "c69ed561",
   "metadata": {},
   "source": [
    "# Data Preproccesing"
   ]
  },
  {
   "cell_type": "markdown",
   "id": "9c1d2020",
   "metadata": {},
   "source": [
    "Text Tokenization "
   ]
  },
  {
   "cell_type": "code",
   "execution_count": 1,
   "id": "90480939",
   "metadata": {},
   "outputs": [],
   "source": [
    "from nltk.tokenize import sent_tokenize, LineTokenizer, RegexpTokenizer"
   ]
  },
  {
   "cell_type": "code",
   "execution_count": 2,
   "id": "f1f5aa18",
   "metadata": {},
   "outputs": [],
   "source": [
    "import nltk\n",
    "filename = \"C:/Users/Lenovo/data/SINGGALANG\""
   ]
  },
  {
   "cell_type": "code",
   "execution_count": 5,
   "id": "51efe668",
   "metadata": {},
   "outputs": [
    {
     "name": "stderr",
     "output_type": "stream",
     "text": [
      "[nltk_data] Downloading package punkt to\n",
      "[nltk_data]     C:\\Users\\Lenovo\\AppData\\Roaming\\nltk_data...\n",
      "[nltk_data]   Package punkt is already up-to-date!\n"
     ]
    },
    {
     "data": {
      "text/plain": [
       "True"
      ]
     },
     "execution_count": 5,
     "metadata": {},
     "output_type": "execute_result"
    }
   ],
   "source": [
    "import nltk\n",
    "nltk.download('punkt')"
   ]
  },
  {
   "cell_type": "code",
   "execution_count": 6,
   "id": "8fe13479",
   "metadata": {},
   "outputs": [],
   "source": [
    "from nltk.tokenize import sent_tokenize, LineTokenizer, RegexpTokenizer"
   ]
  },
  {
   "cell_type": "code",
   "execution_count": 7,
   "id": "3a1f392b",
   "metadata": {},
   "outputs": [
    {
     "name": "stdout",
     "output_type": "stream",
     "text": [
      "sent_tokenize output: ['C:/Users/Lenovo/data/SINGGALANG.tsv']\n"
     ]
    }
   ],
   "source": [
    "stTokenizer = sent_tokenize\n",
    "print(\"sent_tokenize output:\", stTokenizer(\"C:/Users/Lenovo/data/SINGGALANG.tsv\"))"
   ]
  },
  {
   "cell_type": "code",
   "execution_count": 8,
   "id": "d42a63c0",
   "metadata": {},
   "outputs": [
    {
     "name": "stdout",
     "output_type": "stream",
     "text": [
      "LineTokenizer output : ['C:/Users/Lenovo/data/SINGGALANG.tsv']\n"
     ]
    }
   ],
   "source": [
    "ITokenizer = LineTokenizer();\n",
    "print(\"LineTokenizer output :\", ITokenizer.tokenize(\"C:/Users/Lenovo/data/SINGGALANG.tsv\"))"
   ]
  },
  {
   "cell_type": "code",
   "execution_count": 9,
   "id": "85ca6609",
   "metadata": {},
   "outputs": [],
   "source": [
    "from nltk.tokenize import SpaceTokenizer, RegexpTokenizer, TweetTokenizer\n",
    "from nltk import word_tokenize"
   ]
  },
  {
   "cell_type": "code",
   "execution_count": 10,
   "id": "b6e0f272",
   "metadata": {},
   "outputs": [
    {
     "name": "stdout",
     "output_type": "stream",
     "text": [
      "Space Tokenizer output : ['ia', 'menjabat', 'sebagai', 'presiden', 'ketiga', 'mesir', 'pada', 'periode', 'oktober.']\n"
     ]
    }
   ],
   "source": [
    "rawText = \"ia menjabat sebagai presiden ketiga mesir pada periode oktober.\"\n",
    "sTokenizer = SpaceTokenizer()\n",
    "print(\"Space Tokenizer output :\", sTokenizer.tokenize(rawText))"
   ]
  },
  {
   "cell_type": "code",
   "execution_count": 11,
   "id": "3787ccc0",
   "metadata": {},
   "outputs": [
    {
     "name": "stdout",
     "output_type": "stream",
     "text": [
      "Word Tokenizer output: ['ia', 'menjabat', 'sebagai', 'presiden', 'ketiga', 'mesir', 'pada', 'periode', 'oktober', '.']\n"
     ]
    }
   ],
   "source": [
    "print(\"Word Tokenizer output:\", word_tokenize(rawText))"
   ]
  },
  {
   "cell_type": "code",
   "execution_count": 12,
   "id": "09e45488",
   "metadata": {},
   "outputs": [
    {
     "name": "stdout",
     "output_type": "stream",
     "text": [
      "Word Tokenizer output : ['ia', 'menjabat', 'sebagai', 'presiden', 'ketiga', 'mesir', 'pada', 'periode', 'oktober']\n"
     ]
    }
   ],
   "source": [
    "TOKEN_PATTERN = r'\\w+'\n",
    "regex_wt = RegexpTokenizer(pattern=TOKEN_PATTERN, gaps=False)\n",
    "print(\"Word Tokenizer output :\", regex_wt.tokenize(rawText))"
   ]
  },
  {
   "cell_type": "markdown",
   "id": "c3f04db1",
   "metadata": {},
   "source": [
    "# Text Normalization"
   ]
  },
  {
   "cell_type": "code",
   "execution_count": 13,
   "id": "e51b9ea0",
   "metadata": {},
   "outputs": [
    {
     "name": "stdout",
     "output_type": "stream",
     "text": [
      "Lower case: ia menjabat sebagai presiden ketiga mesir pada periode oktober. ia dianggap sebagai orang sangat berpengaruh di mesir dan ditimur tengah dalam sejarah modem\n"
     ]
    }
   ],
   "source": [
    "raw = \"ia menjabat sebagai presiden ketiga mesir pada periode oktober. ia dianggap sebagai orang sangat berpengaruh di mesir dan ditimur tengah dalam sejarah modem\"\n",
    "# Lower case\n",
    "print(\"Lower case:\", raw.lower())"
   ]
  },
  {
   "cell_type": "code",
   "execution_count": 14,
   "id": "d25aafd7",
   "metadata": {},
   "outputs": [
    {
     "name": "stdout",
     "output_type": "stream",
     "text": [
      "Upper case: IA MENJABAT SEBAGAI PRESIDEN KETIGA MESIR PADA PERIODE OKTOBER. IA DIANGGAP SEBAGAI ORANG SANGAT BERPENGARUH DI MESIR DAN DITIMUR TENGAH DALAM SEJARAH MODEM\n"
     ]
    }
   ],
   "source": [
    "# upper case \n",
    "print(\"Upper case:\", raw.upper())"
   ]
  },
  {
   "cell_type": "markdown",
   "id": "e1c91132",
   "metadata": {},
   "source": [
    "# Stemming"
   ]
  },
  {
   "cell_type": "code",
   "execution_count": 15,
   "id": "1811c68a",
   "metadata": {},
   "outputs": [],
   "source": [
    "from nltk import PorterStemmer, LancasterStemmer, word_tokenize"
   ]
  },
  {
   "cell_type": "code",
   "execution_count": 16,
   "id": "ddaf3ccf",
   "metadata": {},
   "outputs": [],
   "source": [
    "raw = \"ia menjabat sebagai presiden ketiga mesir pada periode oktober. ia dianggap sebagai orang sangat berpengaruh di mesir dan ditimur tengah dalam sejarah modem.\"\n",
    "tokens = word_tokenize(raw)"
   ]
  },
  {
   "cell_type": "code",
   "execution_count": 17,
   "id": "1dacfcf6",
   "metadata": {},
   "outputs": [
    {
     "name": "stdout",
     "output_type": "stream",
     "text": [
      "['ia', 'menjabat', 'sebagai', 'presiden', 'ketiga', 'mesir', 'pada', 'period', 'oktob', '.', 'ia', 'dianggap', 'sebagai', 'orang', 'sangat', 'berpengaruh', 'di', 'mesir', 'dan', 'ditimur', 'tengah', 'dalam', 'sejarah', 'modem', '.']\n"
     ]
    }
   ],
   "source": [
    "porter = PorterStemmer()\n",
    "pStems = [porter.stem(t) for t in tokens]\n",
    "print(pStems)"
   ]
  },
  {
   "cell_type": "code",
   "execution_count": 18,
   "id": "a5abf831",
   "metadata": {},
   "outputs": [
    {
     "name": "stdout",
     "output_type": "stream",
     "text": [
      "['ia', 'menjab', 'sebaga', 'presid', 'ketig', 'mesir', 'pad', 'period', 'oktob', '.', 'ia', 'dianggap', 'sebaga', 'orang', 'sang', 'berpengaruh', 'di', 'mesir', 'dan', 'ditim', 'tengah', 'dalam', 'sejarah', 'modem', '.']\n"
     ]
    }
   ],
   "source": [
    "lancaster = LancasterStemmer()\n",
    "lStems = [lancaster.stem(t) for t in tokens]\n",
    "print(lStems)"
   ]
  },
  {
   "cell_type": "markdown",
   "id": "61962654",
   "metadata": {},
   "source": [
    "# Lemmatization"
   ]
  },
  {
   "cell_type": "code",
   "execution_count": 19,
   "id": "687cea96",
   "metadata": {},
   "outputs": [],
   "source": [
    "from nltk import word_tokenize, PorterStemmer, WordNetLemmatizer"
   ]
  },
  {
   "cell_type": "code",
   "execution_count": 20,
   "id": "9ff436b4",
   "metadata": {},
   "outputs": [],
   "source": [
    "raw = \"ia menjabat sebagai presiden ketiga mesir pada periode oktober. ia dianggap sebagai orang sangat berpengaruh di mesir dan ditimur tengah dalam sejarah modem.\"\n",
    "tokens =  word_tokenize(raw)"
   ]
  },
  {
   "cell_type": "code",
   "execution_count": 21,
   "id": "5223a3e5",
   "metadata": {},
   "outputs": [
    {
     "name": "stdout",
     "output_type": "stream",
     "text": [
      "['ia', 'menjabat', 'sebagai', 'presiden', 'ketiga', 'mesir', 'pada', 'period', 'oktob', '.', 'ia', 'dianggap', 'sebagai', 'orang', 'sangat', 'berpengaruh', 'di', 'mesir', 'dan', 'ditimur', 'tengah', 'dalam', 'sejarah', 'modem', '.']\n"
     ]
    }
   ],
   "source": [
    "porter = PorterStemmer()\n",
    "stems = [porter.stem(t) for t in tokens]\n",
    "print(stems)"
   ]
  },
  {
   "cell_type": "code",
   "execution_count": 22,
   "id": "cb97ce02",
   "metadata": {},
   "outputs": [
    {
     "name": "stderr",
     "output_type": "stream",
     "text": [
      "[nltk_data] Downloading package wordnet to\n",
      "[nltk_data]     C:\\Users\\Lenovo\\AppData\\Roaming\\nltk_data...\n",
      "[nltk_data]   Package wordnet is already up-to-date!\n"
     ]
    },
    {
     "data": {
      "text/plain": [
       "True"
      ]
     },
     "execution_count": 22,
     "metadata": {},
     "output_type": "execute_result"
    }
   ],
   "source": [
    "import nltk\n",
    "nltk.download('wordnet')"
   ]
  },
  {
   "cell_type": "code",
   "execution_count": 23,
   "id": "6a5a169a",
   "metadata": {},
   "outputs": [
    {
     "name": "stdout",
     "output_type": "stream",
     "text": [
      "['ia', 'menjabat', 'sebagai', 'presiden', 'ketiga', 'mesir', 'pada', 'periode', 'oktober', '.', 'ia', 'dianggap', 'sebagai', 'orang', 'sangat', 'berpengaruh', 'di', 'mesir', 'dan', 'ditimur', 'tengah', 'dalam', 'sejarah', 'modem', '.']\n"
     ]
    }
   ],
   "source": [
    "lemmatizer = WordNetLemmatizer()\n",
    "lemmas = [lemmatizer.lemmatize(t) for t in tokens]\n",
    "print(lemmas)"
   ]
  },
  {
   "cell_type": "markdown",
   "id": "44aa3156",
   "metadata": {},
   "source": [
    "# Stopwords Removal"
   ]
  },
  {
   "cell_type": "code",
   "execution_count": 24,
   "id": "959acf17",
   "metadata": {},
   "outputs": [
    {
     "name": "stderr",
     "output_type": "stream",
     "text": [
      "[nltk_data] Downloading package gutenberg to\n",
      "[nltk_data]     C:\\Users\\Lenovo\\AppData\\Roaming\\nltk_data...\n",
      "[nltk_data]   Package gutenberg is already up-to-date!\n"
     ]
    },
    {
     "data": {
      "text/plain": [
       "True"
      ]
     },
     "execution_count": 24,
     "metadata": {},
     "output_type": "execute_result"
    }
   ],
   "source": [
    "import nltk\n",
    "nltk.download('gutenberg')"
   ]
  },
  {
   "cell_type": "code",
   "execution_count": 25,
   "id": "03b3ca8a",
   "metadata": {},
   "outputs": [
    {
     "name": "stderr",
     "output_type": "stream",
     "text": [
      "Matplotlib is building the font cache; this may take a moment.\n"
     ]
    },
    {
     "name": "stdout",
     "output_type": "stream",
     "text": [
      "['austen-emma.txt', 'austen-persuasion.txt', 'austen-sense.txt', 'bible-kjv.txt', 'blake-poems.txt', 'bryant-stories.txt', 'burgess-busterbrown.txt', 'carroll-alice.txt', 'chesterton-ball.txt', 'chesterton-brown.txt', 'chesterton-thursday.txt', 'edgeworth-parents.txt', 'melville-moby_dick.txt', 'milton-paradise.txt', 'shakespeare-caesar.txt', 'shakespeare-hamlet.txt', 'shakespeare-macbeth.txt', 'whitman-leaves.txt']\n"
     ]
    }
   ],
   "source": [
    "from nltk.corpus import gutenberg\n",
    "%matplotlib inline\n",
    "print(gutenberg.fileids())"
   ]
  },
  {
   "cell_type": "code",
   "execution_count": 26,
   "id": "ca35333f",
   "metadata": {},
   "outputs": [],
   "source": [
    "gb_words = gutenberg.words('bible-kjv.txt')\n",
    "words_filtered = [e.lower() for e in gb_words if len(e) >= 3]"
   ]
  },
  {
   "cell_type": "code",
   "execution_count": 27,
   "id": "82b86b7b",
   "metadata": {},
   "outputs": [
    {
     "name": "stderr",
     "output_type": "stream",
     "text": [
      "[nltk_data] Downloading package stopwords to\n",
      "[nltk_data]     C:\\Users\\Lenovo\\AppData\\Roaming\\nltk_data...\n",
      "[nltk_data]   Unzipping corpora\\stopwords.zip.\n"
     ]
    }
   ],
   "source": [
    "nltk.download('stopwords')\n",
    "\n",
    "stopwords = nltk.corpus.stopwords.words('english')\n",
    "words = [w for w in words_filtered if w.lower() not in stopwords]"
   ]
  },
  {
   "cell_type": "code",
   "execution_count": 28,
   "id": "bd2d286e",
   "metadata": {},
   "outputs": [],
   "source": [
    "fdist = nltk.FreqDist(words)\n",
    "fdist2 = nltk.FreqDist(gb_words)"
   ]
  },
  {
   "cell_type": "code",
   "execution_count": null,
   "id": "e56aeff1",
   "metadata": {},
   "outputs": [],
   "source": []
  }
 ],
 "metadata": {
  "kernelspec": {
   "display_name": "Python 3 (ipykernel)",
   "language": "python",
   "name": "python3"
  },
  "language_info": {
   "codemirror_mode": {
    "name": "ipython",
    "version": 3
   },
   "file_extension": ".py",
   "mimetype": "text/x-python",
   "name": "python",
   "nbconvert_exporter": "python",
   "pygments_lexer": "ipython3",
   "version": "3.9.7"
  }
 },
 "nbformat": 4,
 "nbformat_minor": 5
}
