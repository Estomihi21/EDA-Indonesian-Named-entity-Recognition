{
  "nbformat": 4,
  "nbformat_minor": 0,
  "metadata": {
    "colab": {
      "name": "NER-PBA",
      "provenance": [],
      "authorship_tag": "ABX9TyMfs+pMTWCuSjLRWASNYLuB",
      "include_colab_link": true
    },
    "kernelspec": {
      "name": "python3",
      "display_name": "Python 3"
    },
    "language_info": {
      "name": "python"
    }
  },
  "cells": [
    {
      "cell_type": "markdown",
      "metadata": {
        "id": "view-in-github",
        "colab_type": "text"
      },
      "source": [
        "<a href=\"https://colab.research.google.com/github/Estomihi21/Indonesian-Named-entity-Recognition/blob/main/NER_PBA.ipynb\" target=\"_parent\"><img src=\"https://colab.research.google.com/assets/colab-badge.svg\" alt=\"Open In Colab\"/></a>"
      ]
    },
    {
      "cell_type": "markdown",
      "metadata": {
        "id": "iQNdTOyada2G"
      },
      "source": [
        "PBA - Named Entity Recognition of Indonesian **Text**\n"
      ]
    },
    {
      "cell_type": "markdown",
      "metadata": {
        "id": "SgAuSBVrdhRO"
      },
      "source": [
        "Nama kelompok :"
      ]
    },
    {
      "cell_type": "markdown",
      "metadata": {
        "id": "HdM0iVVHdmQH"
      },
      "source": [
        "-12S18020_Dita Sihombing\n",
        "\n",
        "-12S18029_Estomihi Sirait\n",
        "\n",
        "-12S18061_Angela Simamora"
      ]
    },
    {
      "cell_type": "markdown",
      "metadata": {
        "id": "hNIC_xcudsB3"
      },
      "source": [
        "PENGANTAR\n"
      ]
    },
    {
      "cell_type": "code",
      "metadata": {
        "id": "uUyh-epXd-ne"
      },
      "source": [
        "#Named Entity Recognition (NER) adalah subtugas dari Ekstraksi Informasi dan\n",
        "#merupakan proses mengidentifikasi kata-kata yang diberi nama entitas dalam teks yang diberikan.\n",
        "#Ini juga disebut identifikasi entitas atau chunking entitas\n"
      ],
      "execution_count": 3,
      "outputs": []
    },
    {
      "cell_type": "code",
      "metadata": {
        "id": "FyXAxLFCeO1e"
      },
      "source": [
        "# Import libraries\n",
        "import nltk\n",
        "import pandas as pd"
      ],
      "execution_count": 4,
      "outputs": []
    },
    {
      "cell_type": "code",
      "metadata": {
        "colab": {
          "base_uri": "https://localhost:8080/",
          "height": 282
        },
        "id": "076zkjd0eaCP",
        "outputId": "fc74a42e-cda7-4cfe-a5fb-3b1e333cb6b9"
      },
      "source": [
        "data = pd.read_tsv(\"C:/Users/Lenovo/data/singgalang.tsv\")"
      ],
      "execution_count": 8,
      "outputs": [
        {
          "output_type": "error",
          "ename": "AttributeError",
          "evalue": "ignored",
          "traceback": [
            "\u001b[0;31m---------------------------------------------------------------------------\u001b[0m",
            "\u001b[0;31mAttributeError\u001b[0m                            Traceback (most recent call last)",
            "\u001b[0;32m<ipython-input-8-690631896162>\u001b[0m in \u001b[0;36m<module>\u001b[0;34m()\u001b[0m\n\u001b[0;32m----> 1\u001b[0;31m \u001b[0mdata\u001b[0m \u001b[0;34m=\u001b[0m \u001b[0mpd\u001b[0m\u001b[0;34m.\u001b[0m\u001b[0mread_tsv\u001b[0m\u001b[0;34m(\u001b[0m\u001b[0;34m\"C:/Users/Lenovo/data/singgalang.tsv\"\u001b[0m\u001b[0;34m)\u001b[0m\u001b[0;34m\u001b[0m\u001b[0;34m\u001b[0m\u001b[0m\n\u001b[0m",
            "\u001b[0;32m/usr/local/lib/python3.7/dist-packages/pandas/__init__.py\u001b[0m in \u001b[0;36m__getattr__\u001b[0;34m(name)\u001b[0m\n\u001b[1;32m    256\u001b[0m             \u001b[0;32mreturn\u001b[0m \u001b[0m_SparseArray\u001b[0m\u001b[0;34m\u001b[0m\u001b[0;34m\u001b[0m\u001b[0m\n\u001b[1;32m    257\u001b[0m \u001b[0;34m\u001b[0m\u001b[0m\n\u001b[0;32m--> 258\u001b[0;31m         \u001b[0;32mraise\u001b[0m \u001b[0mAttributeError\u001b[0m\u001b[0;34m(\u001b[0m\u001b[0;34mf\"module 'pandas' has no attribute '{name}'\"\u001b[0m\u001b[0;34m)\u001b[0m\u001b[0;34m\u001b[0m\u001b[0;34m\u001b[0m\u001b[0m\n\u001b[0m\u001b[1;32m    259\u001b[0m \u001b[0;34m\u001b[0m\u001b[0m\n\u001b[1;32m    260\u001b[0m \u001b[0;34m\u001b[0m\u001b[0m\n",
            "\u001b[0;31mAttributeError\u001b[0m: module 'pandas' has no attribute 'read_tsv'"
          ]
        }
      ]
    }
  ]
}